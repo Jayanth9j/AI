{
  "cells": [
    {
      "cell_type": "code",
      "execution_count": null,
      "metadata": {
        "colab": {
          "base_uri": "https://localhost:8080/"
        },
        "id": "MyylBi2WVOpb",
        "outputId": "f0db8a5f-ac4c-4d18-ebea-e6877d73b6b5"
      },
      "outputs": [],
      "source": [
        "# ✅ Reading the dataset\n",
        "with open(\"processed_hospital_dataset.csv\", \"r\") as f:\n",
        "    content = f.read()\n",
        "    print(\"Full Content:\\n\", content)\n",
        "\n",
        "# ✅ Reading line by line\n",
        "with open(\"processed_hospital_dataset.csv\", \"r\") as f:\n",
        "    lines = f.readlines()\n",
        "    print(\"Lines:\\n\", lines[:3])  # Show first 3 lines\n",
        "\n",
        "# ✅ Appending a new line (use with caution)\n",
        "with open(\"processed_hospital_dataset.csv\", \"a\") as f:\n",
        "    f.write(\"\\nNew Patient,60,Flu,Recovered\")\n",
        "\n",
        "# ✅ Writing to a new file\n",
        "with open(\"hospital_copy.csv\", \"w\") as f:\n",
        "    f.write(content)\n"
      ]
    },
    {
      "cell_type": "code",
      "execution_count": null,
      "metadata": {
        "colab": {
          "base_uri": "https://localhost:8080/"
        },
        "id": "EleRnc4JVWh-",
        "outputId": "fe74688a-0816-426c-8bb4-abb866711e8a"
      },
      "outputs": [],
      "source": [
        "try:\n",
        "    with open(\"processed_hospital_dataset.csv\", \"r\") as f:\n",
        "        data = f.read()\n",
        "        print(\"File read successfully.\")\n",
        "except FileNotFoundError:\n",
        "    print(\"Error: The dataset file was not found.\")\n",
        "except Exception as e:\n",
        "    print(\"An unexpected error occurred:\", e)\n",
        "else:\n",
        "    print(\"No errors during file read.\")\n",
        "finally:\n",
        "    print(\"File access attempt completed.\")\n"
      ]
    },
    {
      "cell_type": "code",
      "execution_count": null,
      "metadata": {
        "colab": {
          "base_uri": "https://localhost:8080/"
        },
        "id": "Cfye0QUVVWeZ",
        "outputId": "5af9584c-7b50-4809-eb06-2b7b5dd8f73f"
      },
      "outputs": [],
      "source": [
        "class HospitalDataset:\n",
        "    def __init__(self, filepath):\n",
        "        self.filepath = filepath\n",
        "        print(f\"Constructor: Handler created for {self.filepath}\")\n",
        "\n",
        "    def read_data(self):\n",
        "        try:\n",
        "            with open(self.filepath, 'r') as f:\n",
        "                data = f.read()\n",
        "                print(\"Data loaded successfully.\")\n",
        "                return data\n",
        "        except Exception as e:\n",
        "            print(\"Failed to read data:\", e)\n",
        "\n",
        "    def __del__(self):\n",
        "        print(f\"Destructor: Handler for {self.filepath} is deleted.\")\n",
        "\n",
        "# Using the class\n",
        "dataset = HospitalDataset(\"processed_hospital_dataset.csv\")\n",
        "data = dataset.read_data()\n",
        "del dataset  # Destructor called here\n"
      ]
    }
  ],
  "metadata": {
    "colab": {
      "provenance": []
    },
    "kernelspec": {
      "display_name": "Python 3",
      "name": "python3"
    },
    "language_info": {
      "codemirror_mode": {
        "name": "ipython",
        "version": 3
      },
      "file_extension": ".py",
      "mimetype": "text/x-python",
      "name": "python",
      "nbconvert_exporter": "python",
      "pygments_lexer": "ipython3",
      "version": "3.11.0"
    }
  },
  "nbformat": 4,
  "nbformat_minor": 0
}
