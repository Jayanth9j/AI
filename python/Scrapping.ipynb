{
 "cells": [
  {
   "cell_type": "code",
   "execution_count": 53,
   "metadata": {},
   "outputs": [
    {
     "name": "stdout",
     "output_type": "stream",
     "text": [
      "Found 36 job cards.\n",
      "✅ Saved 36 jobs to remoteok_jobs.csv\n"
     ]
    }
   ],
   "source": [
    "import csv\n",
    "import time\n",
    "from selenium import webdriver\n",
    "from selenium.webdriver.common.by import By\n",
    "from selenium.webdriver.chrome.options import Options\n",
    "\n",
    "# Setup headless browser\n",
    "options = Options()\n",
    "options.add_argument(\"--headless\")\n",
    "driver = webdriver.Chrome(options=options)\n",
    "\n",
    "# Go to Remote OK\n",
    "url = \"https://remoteok.com/remote-data-analyst-jobs\"\n",
    "driver.get(url)\n",
    "time.sleep(5)  # Wait for jobs to load\n",
    "\n",
    "# Find job rows\n",
    "job_rows = driver.find_elements(By.CSS_SELECTOR, 'tr.job')\n",
    "\n",
    "print(f\"Found {len(job_rows)} job cards.\")\n",
    "\n",
    "jobs = []\n",
    "for row in job_rows:\n",
    "    try:\n",
    "        title = row.find_element(By.CSS_SELECTOR, 'td.position h2').text\n",
    "        company = row.find_element(By.CSS_SELECTOR, 'td.company h3').text\n",
    "        location = row.find_element(By.CSS_SELECTOR, 'div.location').text\n",
    "        link = row.get_attribute('data-href')\n",
    "        jobs.append([title, company, location, f\"https://remoteok.com{link}\"])\n",
    "    except Exception as e:\n",
    "        print(\"Error parsing job:\", e)\n",
    "        continue\n",
    "\n",
    "# Save to CSV\n",
    "with open(\"remoteok_jobs.csv\", \"w\", newline='', encoding=\"utf-8\") as f:\n",
    "    writer = csv.writer(f)\n",
    "    writer.writerow([\"Job Title\", \"Company\", \"Location\", \"Job Link\"])\n",
    "    writer.writerows(jobs)\n",
    "\n",
    "print(f\"✅ Saved {len(jobs)} jobs to remoteok_jobs.csv\")\n",
    "\n",
    "driver.quit()\n"
   ]
  },
  {
   "cell_type": "code",
   "execution_count": null,
   "metadata": {},
   "outputs": [],
   "source": []
  },
  {
   "cell_type": "code",
   "execution_count": null,
   "id": "ce851140",
   "metadata": {},
   "outputs": [],
   "source": []
  },
  {
   "cell_type": "code",
   "execution_count": null,
   "metadata": {},
   "outputs": [],
   "source": []
  }
 ],
 "metadata": {
  "kernelspec": {
   "display_name": "Python 3",
   "language": "python",
   "name": "python3"
  },
  "language_info": {
   "codemirror_mode": {
    "name": "ipython",
    "version": 3
   },
   "file_extension": ".py",
   "mimetype": "text/x-python",
   "name": "python",
   "nbconvert_exporter": "python",
   "pygments_lexer": "ipython3",
   "version": "3.11.0"
  }
 },
 "nbformat": 4,
 "nbformat_minor": 5
}
