{
 "cells": [
  {
   "cell_type": "code",
   "execution_count": 3,
   "id": "2cfc0a55",
   "metadata": {},
   "outputs": [
    {
     "name": "stdout",
     "output_type": "stream",
     "text": [
      "Original data:\n",
      "  patient_id   age  gender blood_pressure  cholesterol   bmi diabetes  \\\n",
      "0          2  46.0  Female         120/92        292.0  36.3       No   \n",
      "1          3  89.0   Other         135/78        153.0  30.3       No   \n",
      "2          4  84.0  Female         123/80        153.0  31.5       No   \n",
      "3          5  32.0   Other         135/84        205.0  18.4       No   \n",
      "4          6  75.0  Female        139/100        194.0  33.5       No   \n",
      "\n",
      "  hypertension  medication_count  length_of_stay discharge_destination  \\\n",
      "0           No               4.0             3.0      Nursing_Facility   \n",
      "1          Yes               1.0             1.0                  Home   \n",
      "2          Yes               3.0            10.0                  Home   \n",
      "3          Yes               6.0             4.0      Nursing_Facility   \n",
      "4          Yes               0.0            10.0                  Home   \n",
      "\n",
      "  readmitted_30_days  LOS_Double  LOS_GT_5  Senior_LongStay  BitwiseDemo  \\\n",
      "0                 No         6.0       0.0              0.0          0.0   \n",
      "1                 No         2.0       0.0              0.0          1.0   \n",
      "2                 No        20.0       1.0              1.0          0.0   \n",
      "3                 No         8.0       0.0              0.0          0.0   \n",
      "4                 No        20.0       1.0              1.0          1.0   \n",
      "\n",
      "   IsHomeDischarge LOS_Label  AgeSquared  \n",
      "0              0.0     Short      2116.0  \n",
      "1              1.0     Short      7921.0  \n",
      "2              1.0      Long      7056.0  \n",
      "3              0.0     Short      1024.0  \n",
      "4              1.0      Long      5625.0  \n"
     ]
    }
   ],
   "source": [
    "import sqlite3\n",
    "import pandas as pd\n",
    "\n",
    "# Step 1: Connect to your SQLite database\n",
    "db_path = r\"C:\\Users\\Jayanth\\OneDrive - The Pennsylvania State University\\Desktop\\Visual\\Python statistics\\sqllite.db\"\n",
    "conn = sqlite3.connect(db_path)\n",
    "\n",
    "# Step 2: Read the hospital table into a DataFrame\n",
    "df = pd.read_sql_query(\"SELECT * FROM hospital\", conn)\n",
    "print(\"Original data:\")\n",
    "print(df.head())\n",
    "\n"
   ]
  },
  {
   "cell_type": "code",
   "execution_count": 4,
   "metadata": {},
   "outputs": [
    {
     "data": {
      "text/html": [
       "<div>\n",
       "<style scoped>\n",
       "    .dataframe tbody tr th:only-of-type {\n",
       "        vertical-align: middle;\n",
       "    }\n",
       "\n",
       "    .dataframe tbody tr th {\n",
       "        vertical-align: top;\n",
       "    }\n",
       "\n",
       "    .dataframe thead th {\n",
       "        text-align: right;\n",
       "    }\n",
       "</style>\n",
       "<table border=\"1\" class=\"dataframe\">\n",
       "  <thead>\n",
       "    <tr style=\"text-align: right;\">\n",
       "      <th></th>\n",
       "      <th>age</th>\n",
       "      <th>cholesterol</th>\n",
       "      <th>bmi</th>\n",
       "      <th>medication_count</th>\n",
       "      <th>length_of_stay</th>\n",
       "      <th>LOS_Double</th>\n",
       "      <th>LOS_GT_5</th>\n",
       "      <th>Senior_LongStay</th>\n",
       "      <th>BitwiseDemo</th>\n",
       "      <th>IsHomeDischarge</th>\n",
       "      <th>AgeSquared</th>\n",
       "    </tr>\n",
       "  </thead>\n",
       "  <tbody>\n",
       "    <tr>\n",
       "      <th>count</th>\n",
       "      <td>30000.000000</td>\n",
       "      <td>30000.000000</td>\n",
       "      <td>30000.000000</td>\n",
       "      <td>29999.000000</td>\n",
       "      <td>29999.000000</td>\n",
       "      <td>29999.000000</td>\n",
       "      <td>29999.000000</td>\n",
       "      <td>29999.000000</td>\n",
       "      <td>29999.000000</td>\n",
       "      <td>29999.000000</td>\n",
       "      <td>29999.000000</td>\n",
       "    </tr>\n",
       "    <tr>\n",
       "      <th>mean</th>\n",
       "      <td>53.883767</td>\n",
       "      <td>225.259900</td>\n",
       "      <td>28.946177</td>\n",
       "      <td>5.012267</td>\n",
       "      <td>5.503050</td>\n",
       "      <td>11.006100</td>\n",
       "      <td>0.499550</td>\n",
       "      <td>0.121537</td>\n",
       "      <td>0.492316</td>\n",
       "      <td>0.899130</td>\n",
       "      <td>3346.800393</td>\n",
       "    </tr>\n",
       "    <tr>\n",
       "      <th>std</th>\n",
       "      <td>21.056194</td>\n",
       "      <td>43.585588</td>\n",
       "      <td>6.348187</td>\n",
       "      <td>3.166436</td>\n",
       "      <td>2.867228</td>\n",
       "      <td>5.734456</td>\n",
       "      <td>0.500008</td>\n",
       "      <td>0.326756</td>\n",
       "      <td>0.499949</td>\n",
       "      <td>0.301162</td>\n",
       "      <td>2305.874969</td>\n",
       "    </tr>\n",
       "    <tr>\n",
       "      <th>min</th>\n",
       "      <td>18.000000</td>\n",
       "      <td>150.000000</td>\n",
       "      <td>18.000000</td>\n",
       "      <td>0.000000</td>\n",
       "      <td>1.000000</td>\n",
       "      <td>2.000000</td>\n",
       "      <td>0.000000</td>\n",
       "      <td>0.000000</td>\n",
       "      <td>0.000000</td>\n",
       "      <td>0.000000</td>\n",
       "      <td>324.000000</td>\n",
       "    </tr>\n",
       "    <tr>\n",
       "      <th>25%</th>\n",
       "      <td>36.000000</td>\n",
       "      <td>188.000000</td>\n",
       "      <td>23.400000</td>\n",
       "      <td>2.000000</td>\n",
       "      <td>3.000000</td>\n",
       "      <td>6.000000</td>\n",
       "      <td>0.000000</td>\n",
       "      <td>0.000000</td>\n",
       "      <td>0.000000</td>\n",
       "      <td>1.000000</td>\n",
       "      <td>1296.000000</td>\n",
       "    </tr>\n",
       "    <tr>\n",
       "      <th>50%</th>\n",
       "      <td>54.000000</td>\n",
       "      <td>225.000000</td>\n",
       "      <td>28.900000</td>\n",
       "      <td>5.000000</td>\n",
       "      <td>5.000000</td>\n",
       "      <td>10.000000</td>\n",
       "      <td>0.000000</td>\n",
       "      <td>0.000000</td>\n",
       "      <td>0.000000</td>\n",
       "      <td>1.000000</td>\n",
       "      <td>2916.000000</td>\n",
       "    </tr>\n",
       "    <tr>\n",
       "      <th>75%</th>\n",
       "      <td>72.000000</td>\n",
       "      <td>263.000000</td>\n",
       "      <td>34.500000</td>\n",
       "      <td>8.000000</td>\n",
       "      <td>8.000000</td>\n",
       "      <td>16.000000</td>\n",
       "      <td>1.000000</td>\n",
       "      <td>0.000000</td>\n",
       "      <td>1.000000</td>\n",
       "      <td>1.000000</td>\n",
       "      <td>5184.000000</td>\n",
       "    </tr>\n",
       "    <tr>\n",
       "      <th>max</th>\n",
       "      <td>90.000000</td>\n",
       "      <td>300.000000</td>\n",
       "      <td>40.000000</td>\n",
       "      <td>10.000000</td>\n",
       "      <td>10.000000</td>\n",
       "      <td>20.000000</td>\n",
       "      <td>1.000000</td>\n",
       "      <td>1.000000</td>\n",
       "      <td>1.000000</td>\n",
       "      <td>1.000000</td>\n",
       "      <td>8100.000000</td>\n",
       "    </tr>\n",
       "  </tbody>\n",
       "</table>\n",
       "</div>"
      ],
      "text/plain": [
       "                age   cholesterol           bmi  medication_count  \\\n",
       "count  30000.000000  30000.000000  30000.000000      29999.000000   \n",
       "mean      53.883767    225.259900     28.946177          5.012267   \n",
       "std       21.056194     43.585588      6.348187          3.166436   \n",
       "min       18.000000    150.000000     18.000000          0.000000   \n",
       "25%       36.000000    188.000000     23.400000          2.000000   \n",
       "50%       54.000000    225.000000     28.900000          5.000000   \n",
       "75%       72.000000    263.000000     34.500000          8.000000   \n",
       "max       90.000000    300.000000     40.000000         10.000000   \n",
       "\n",
       "       length_of_stay    LOS_Double      LOS_GT_5  Senior_LongStay  \\\n",
       "count    29999.000000  29999.000000  29999.000000     29999.000000   \n",
       "mean         5.503050     11.006100      0.499550         0.121537   \n",
       "std          2.867228      5.734456      0.500008         0.326756   \n",
       "min          1.000000      2.000000      0.000000         0.000000   \n",
       "25%          3.000000      6.000000      0.000000         0.000000   \n",
       "50%          5.000000     10.000000      0.000000         0.000000   \n",
       "75%          8.000000     16.000000      1.000000         0.000000   \n",
       "max         10.000000     20.000000      1.000000         1.000000   \n",
       "\n",
       "        BitwiseDemo  IsHomeDischarge    AgeSquared  \n",
       "count  29999.000000     29999.000000  29999.000000  \n",
       "mean       0.492316         0.899130   3346.800393  \n",
       "std        0.499949         0.301162   2305.874969  \n",
       "min        0.000000         0.000000    324.000000  \n",
       "25%        0.000000         1.000000   1296.000000  \n",
       "50%        0.000000         1.000000   2916.000000  \n",
       "75%        1.000000         1.000000   5184.000000  \n",
       "max        1.000000         1.000000   8100.000000  "
      ]
     },
     "execution_count": 4,
     "metadata": {},
     "output_type": "execute_result"
    }
   ],
   "source": [
    "df.describe()"
   ]
  },
  {
   "cell_type": "code",
   "execution_count": 5,
   "id": "ec70ff9c",
   "metadata": {},
   "outputs": [],
   "source": [
    "# Bayesian Inference P(Readmitted | Diabetes = Yes)\n",
    "readmit_given_diabetes = df[(df['diabetes'] == 'Yes') & \n",
    "                                    (df['readmitted_30_days'] == 'Yes')].shape[0] / \\\n",
    "                         df[df['diabetes'] == 'Yes'].shape[0]\n"
   ]
  },
  {
   "cell_type": "code",
   "execution_count": 6,
   "metadata": {},
   "outputs": [
    {
     "name": "stdout",
     "output_type": "stream",
     "text": [
      "0.13212469895638213\n"
     ]
    }
   ],
   "source": [
    "print(readmit_given_diabetes)"
   ]
  },
  {
   "cell_type": "code",
   "execution_count": 7,
   "id": "ce76a891",
   "metadata": {},
   "outputs": [
    {
     "data": {
      "text/plain": [
       "<Axes: xlabel='age', ylabel='Density'>"
      ]
     },
     "execution_count": 7,
     "metadata": {},
     "output_type": "execute_result"
    },
    {
     "data": {
      "image/png": "[encoded data removed]",
      "text/plain": [
       "<Figure size 640x480 with 1 Axes>"
      ]
     },
     "metadata": {},
     "output_type": "display_data"
    }
   ],
   "source": [
    "# Density Plots \n",
    "import seaborn as sns\n",
    "sns.kdeplot(df['age'])\n"
   ]
  },
  {
   "cell_type": "code",
   "execution_count": 8,
   "id": "9b5a2ca3",
   "metadata": {},
   "outputs": [
    {
     "name": "stdout",
     "output_type": "stream",
     "text": [
      "53.9033487612306\n"
     ]
    }
   ],
   "source": [
    "# Estimation\n",
    "mean_age_readmit = df[df['readmitted_30_days'] == 'Yes']['age'].mean()\n",
    "print(mean_age_readmit)"
   ]
  },
  {
   "cell_type": "code",
   "execution_count": 9,
   "id": "1261f390",
   "metadata": {},
   "outputs": [
    {
     "name": "stdout",
     "output_type": "stream",
     "text": [
      "(np.float64(28.874341490717644), np.float64(29.018011842615696))\n"
     ]
    }
   ],
   "source": [
    "# Confidence Margin \n",
    "from scipy import stats\n",
    "mean_bmi = df['bmi'].mean()\n",
    "std_bmi = df['bmi'].std()\n",
    "n = len(df)\n",
    "\n",
    "conf_interval = stats.norm.interval(0.95, loc=mean_bmi, scale=std_bmi / (n**0.5))\n",
    "print(conf_interval)"
   ]
  },
  {
   "cell_type": "markdown",
   "id": "6cd93d91",
   "metadata": {},
   "source": [
    "We are 95% confident that the true population mean BMI lies between 28.87 and 29.02"
   ]
  },
  {
   "cell_type": "code",
   "execution_count": 10,
   "metadata": {},
   "outputs": [
    {
     "ename": "NameError",
     "evalue": "name 'chi2_contingency' is not defined",
     "output_type": "error",
     "traceback": [
      "\u001b[31m---------------------------------------------------------------------------\u001b[39m",
      "\u001b[31mNameError\u001b[39m                                 Traceback (most recent call last)",
      "\u001b[36mCell\u001b[39m\u001b[36m \u001b[39m\u001b[32mIn[10]\u001b[39m\u001b[32m, line 2\u001b[39m\n\u001b[32m      1\u001b[39m contingency_table = pd.crosstab(df[\u001b[33m'\u001b[39m\u001b[33mdiabetes\u001b[39m\u001b[33m'\u001b[39m], df[\u001b[33m'\u001b[39m\u001b[33mreadmitted_30_days\u001b[39m\u001b[33m'\u001b[39m])\n\u001b[32m----> \u001b[39m\u001b[32m2\u001b[39m chi2_stat, p_val, dof, expected = \u001b[43mchi2_contingency\u001b[49m(contingency_table)\n\u001b[32m      4\u001b[39m \u001b[38;5;28mprint\u001b[39m(\u001b[33m\"\u001b[39m\u001b[38;5;130;01m\\n\u001b[39;00m\u001b[33mChi-Square Test between Diabetes and Readmission:\u001b[39m\u001b[33m\"\u001b[39m)\n\u001b[32m      5\u001b[39m \u001b[38;5;28mprint\u001b[39m(\u001b[33mf\u001b[39m\u001b[33m\"\u001b[39m\u001b[33mChi2 Statistic: \u001b[39m\u001b[38;5;132;01m{\u001b[39;00mchi2_stat\u001b[38;5;132;01m:\u001b[39;00m\u001b[33m.4f\u001b[39m\u001b[38;5;132;01m}\u001b[39;00m\u001b[33m\"\u001b[39m)\n",
      "\u001b[31mNameError\u001b[39m: name 'chi2_contingency' is not defined"
     ]
    }
   ],
   "source": [
    "contingency_table = pd.crosstab(df['diabetes'], df['readmitted_30_days'])\n",
    "chi2_stat, p_val, dof, expected = chi2_contingency(contingency_table)\n",
    "\n",
    "print(\"\\nChi-Square Test between Diabetes and Readmission:\")\n",
    "print(f\"Chi2 Statistic: {chi2_stat:.4f}\")\n",
    "print(f\"p-value: {p_val:.4e}\")\n",
    "print(f\"Degrees of Freedom: {dof}\")"
   ]
  },
  {
   "cell_type": "markdown",
   "id": "4b56fea3",
   "metadata": {},
   "source": [
    "Type\t         Example Hypothesis\t                     Test\n",
    "Null (H₀)\t     Readmission is independent of diabetes\t None\n",
    "Alternative (H₁) Readmission depends on diabetes\t     Use Chi-Square Test for categorical data:"
   ]
  }
 ],
 "metadata": {
  "kernelspec": {
   "display_name": "Python 3",
   "language": "python",
   "name": "python3"
  },
  "language_info": {
   "codemirror_mode": {
    "name": "ipython",
    "version": 3
   },
   "file_extension": ".py",
   "mimetype": "text/x-python",
   "name": "python",
   "nbconvert_exporter": "python",
   "pygments_lexer": "ipython3",
   "version": "3.11.0"
  }
 },
 "nbformat": 4,
 "nbformat_minor": 5
}
